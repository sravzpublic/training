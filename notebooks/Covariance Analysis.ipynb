{
 "cells": [
  {
   "cell_type": "code",
   "execution_count": 1,
   "metadata": {},
   "outputs": [],
   "source": [
    "%reload_ext autoreload\n",
    "%autoreload 2\n",
    "\n",
    "import datetime\n",
    "import numpy as np\n",
    "import matplotlib.pyplot as plt\n",
    "\n",
    "from src import util, asset, portfolio\n",
    "ae = asset.engine()\n",
    "pe = portfolio.engine()"
   ]
  },
  {
   "cell_type": "code",
   "execution_count": 2,
   "metadata": {},
   "outputs": [
    {
     "data": {
      "text/html": [
       "<div>\n",
       "<style scoped>\n",
       "    .dataframe tbody tr th:only-of-type {\n",
       "        vertical-align: middle;\n",
       "    }\n",
       "\n",
       "    .dataframe tbody tr th {\n",
       "        vertical-align: top;\n",
       "    }\n",
       "\n",
       "    .dataframe thead th {\n",
       "        text-align: right;\n",
       "    }\n",
       "</style>\n",
       "<table border=\"1\" class=\"dataframe\">\n",
       "  <thead>\n",
       "    <tr style=\"text-align: right;\">\n",
       "      <th></th>\n",
       "      <th>Volume</th>\n",
       "      <th>High</th>\n",
       "      <th>Last</th>\n",
       "      <th>Low</th>\n",
       "      <th>OpenInterest</th>\n",
       "      <th>Open</th>\n",
       "      <th>Change</th>\n",
       "      <th>Settle</th>\n",
       "    </tr>\n",
       "    <tr>\n",
       "      <th>Date</th>\n",
       "      <th></th>\n",
       "      <th></th>\n",
       "      <th></th>\n",
       "      <th></th>\n",
       "      <th></th>\n",
       "      <th></th>\n",
       "      <th></th>\n",
       "      <th></th>\n",
       "    </tr>\n",
       "  </thead>\n",
       "  <tbody>\n",
       "    <tr>\n",
       "      <th>2017-03-30T00:00:00.000Z</th>\n",
       "      <td>51078</td>\n",
       "      <td>1253.6</td>\n",
       "      <td>1241.5</td>\n",
       "      <td>1241.1</td>\n",
       "      <td>0</td>\n",
       "      <td>1253.1</td>\n",
       "      <td>8.7</td>\n",
       "      <td>1245.0</td>\n",
       "    </tr>\n",
       "    <tr>\n",
       "      <th>2017-03-29T00:00:00.000Z</th>\n",
       "      <td>41</td>\n",
       "      <td>1252.2</td>\n",
       "      <td>1252.2</td>\n",
       "      <td>1252.1</td>\n",
       "      <td>0</td>\n",
       "      <td>1252.2</td>\n",
       "      <td>1.9</td>\n",
       "      <td>1253.4</td>\n",
       "    </tr>\n",
       "  </tbody>\n",
       "</table>\n",
       "</div>"
      ],
      "text/plain": [
       "                          Volume    High    Last     Low  OpenInterest  \\\n",
       "Date                                                                     \n",
       "2017-03-30T00:00:00.000Z   51078  1253.6  1241.5  1241.1             0   \n",
       "2017-03-29T00:00:00.000Z      41  1252.2  1252.2  1252.1             0   \n",
       "\n",
       "                            Open  Change  Settle  \n",
       "Date                                              \n",
       "2017-03-30T00:00:00.000Z  1253.1     8.7  1245.0  \n",
       "2017-03-29T00:00:00.000Z  1252.2     1.9  1253.4  "
      ]
     },
     "metadata": {},
     "output_type": "display_data"
    }
   ],
   "source": [
    "fut_gold_price_df = ae.get_historical_price('fut_gold')\n",
    "display(fut_gold_price_df.head(2))"
   ]
  },
  {
   "cell_type": "code",
   "execution_count": 3,
   "metadata": {},
   "outputs": [
    {
     "data": {
      "text/plain": [
       "<matplotlib.axes._subplots.AxesSubplot at 0x7f43c7e19e10>"
      ]
     },
     "execution_count": 3,
     "metadata": {},
     "output_type": "execute_result"
    },
    {
     "data": {
      "image/png": "[encoded data removed]",
      "text/plain": [
       "<Figure size 432x288 with 1 Axes>"
      ]
     },
     "metadata": {
      "needs_background": "light"
     },
     "output_type": "display_data"
    }
   ],
   "source": [
    "fut_gold_price_df['Last'].plot(kind='line')"
   ]
  },
  {
   "cell_type": "code",
   "execution_count": 4,
   "metadata": {
    "scrolled": true
   },
   "outputs": [
    {
     "name": "stdout",
     "output_type": "stream",
     "text": [
      "2019-10-04 15:32:55,454 - src.portfolio - ERROR - Failed to process sravz_id fut_gold\n",
      "Traceback (most recent call last):\n",
      "  File \"/home/vagrant/training/notebooks/src/portfolio.py\", line 29, in get_percent_daily_returns\n",
      "    price_df = self.ae.get_historical_price(sravzid)[['Date', 'Last']]\n",
      "  File \"/home/vagrant/.virtualenvs/python3.6/lib/python3.6/site-packages/pandas/core/frame.py\", line 2934, in __getitem__\n",
      "    raise_missing=True)\n",
      "  File \"/home/vagrant/.virtualenvs/python3.6/lib/python3.6/site-packages/pandas/core/indexing.py\", line 1354, in _convert_to_indexer\n",
      "    return self._get_listlike_indexer(obj, axis, **kwargs)[1]\n",
      "  File \"/home/vagrant/.virtualenvs/python3.6/lib/python3.6/site-packages/pandas/core/indexing.py\", line 1161, in _get_listlike_indexer\n",
      "    raise_missing=raise_missing)\n",
      "  File \"/home/vagrant/.virtualenvs/python3.6/lib/python3.6/site-packages/pandas/core/indexing.py\", line 1252, in _validate_read_indexer\n",
      "    raise KeyError(\"{} not in index\".format(not_found))\n",
      "KeyError: \"['Date'] not in index\"\n",
      "2019-10-04 15:32:55,483 - src.portfolio - ERROR - Failed to process sravz_id idx_us_spx\n",
      "Traceback (most recent call last):\n",
      "  File \"/home/vagrant/training/notebooks/src/portfolio.py\", line 29, in get_percent_daily_returns\n",
      "    price_df = self.ae.get_historical_price(sravzid)[['Date', 'Last']]\n",
      "  File \"/home/vagrant/.virtualenvs/python3.6/lib/python3.6/site-packages/pandas/core/frame.py\", line 2934, in __getitem__\n",
      "    raise_missing=True)\n",
      "  File \"/home/vagrant/.virtualenvs/python3.6/lib/python3.6/site-packages/pandas/core/indexing.py\", line 1354, in _convert_to_indexer\n",
      "    return self._get_listlike_indexer(obj, axis, **kwargs)[1]\n",
      "  File \"/home/vagrant/.virtualenvs/python3.6/lib/python3.6/site-packages/pandas/core/indexing.py\", line 1161, in _get_listlike_indexer\n",
      "    raise_missing=raise_missing)\n",
      "  File \"/home/vagrant/.virtualenvs/python3.6/lib/python3.6/site-packages/pandas/core/indexing.py\", line 1252, in _validate_read_indexer\n",
      "    raise KeyError(\"{} not in index\".format(not_found))\n",
      "KeyError: \"['Date'] not in index\"\n"
     ]
    },
    {
     "ename": "AttributeError",
     "evalue": "'NoneType' object has no attribute 'head'",
     "output_type": "error",
     "traceback": [
      "\u001b[0;31m---------------------------------------------------------------------------\u001b[0m",
      "\u001b[0;31mAttributeError\u001b[0m                            Traceback (most recent call last)",
      "\u001b[0;32m<ipython-input-4-07dc9745f023>\u001b[0m in \u001b[0;36m<module>\u001b[0;34m()\u001b[0m\n\u001b[1;32m      1\u001b[0m \u001b[0mprice_df\u001b[0m \u001b[0;34m=\u001b[0m \u001b[0mpe\u001b[0m\u001b[0;34m.\u001b[0m\u001b[0mget_percent_daily_returns\u001b[0m\u001b[0;34m(\u001b[0m\u001b[0;34m[\u001b[0m\u001b[0;34m'fut_gold'\u001b[0m\u001b[0;34m,\u001b[0m \u001b[0;34m'idx_us_spx'\u001b[0m\u001b[0;34m]\u001b[0m\u001b[0;34m)\u001b[0m\u001b[0;34m\u001b[0m\u001b[0;34m\u001b[0m\u001b[0m\n\u001b[0;32m----> 2\u001b[0;31m \u001b[0mdisplay\u001b[0m\u001b[0;34m(\u001b[0m\u001b[0mprice_df\u001b[0m\u001b[0;34m.\u001b[0m\u001b[0mhead\u001b[0m\u001b[0;34m(\u001b[0m\u001b[0;36m5\u001b[0m\u001b[0;34m)\u001b[0m\u001b[0;34m)\u001b[0m\u001b[0;34m\u001b[0m\u001b[0;34m\u001b[0m\u001b[0m\n\u001b[0m\u001b[1;32m      3\u001b[0m \u001b[0mdisplay\u001b[0m\u001b[0;34m(\u001b[0m\u001b[0mprice_df\u001b[0m\u001b[0;34m.\u001b[0m\u001b[0mtail\u001b[0m\u001b[0;34m(\u001b[0m\u001b[0;36m5\u001b[0m\u001b[0;34m)\u001b[0m\u001b[0;34m)\u001b[0m\u001b[0;34m\u001b[0m\u001b[0;34m\u001b[0m\u001b[0m\n",
      "\u001b[0;31mAttributeError\u001b[0m: 'NoneType' object has no attribute 'head'"
     ]
    }
   ],
   "source": [
    "price_df = pe.get_percent_daily_returns(['fut_gold', 'idx_us_spx'])\n",
    "display(price_df.head(5))\n",
    "display(price_df.tail(5))"
   ]
  },
  {
   "cell_type": "code",
   "execution_count": null,
   "metadata": {},
   "outputs": [],
   "source": [
    "price_df.plot(kind='line')"
   ]
  },
  {
   "cell_type": "code",
   "execution_count": null,
   "metadata": {},
   "outputs": [],
   "source": [
    "ae.get_combined_charts(['fut_gold', 'fut_oil'])"
   ]
  },
  {
   "cell_type": "code",
   "execution_count": null,
   "metadata": {},
   "outputs": [],
   "source": []
  }
 ],
 "metadata": {
  "kernelspec": {
   "display_name": "Python 3",
   "language": "python",
   "name": "python3"
  },
  "language_info": {
   "codemirror_mode": {
    "name": "ipython",
    "version": 3
   },
   "file_extension": ".py",
   "mimetype": "text/x-python",
   "name": "python",
   "nbconvert_exporter": "python",
   "pygments_lexer": "ipython3",
   "version": "3.6.8"
  }
 },
 "nbformat": 4,
 "nbformat_minor": 2
}
