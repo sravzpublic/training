{
 "cells": [
  {
   "cell_type": "code",
   "execution_count": 1,
   "source": [
    "import os, sys\n",
    "sys.path.append(f\"{os.getcwd()}/src\")\n",
    "from src import asset, portfolio\n",
    "from src import tears\n",
    "\n",
    "ae = asset.engine()\n",
    "pe = portfolio.engine()\n",
    "asset_returns = pe.get_percent_daily_returns(['fut_gold'])\n",
    "benchmark_returns = pe.get_percent_daily_returns(['idx_us_spx'])"
   ],
   "outputs": [
    {
     "output_type": "error",
     "ename": "ModuleNotFoundError",
     "evalue": "No module named 'util'",
     "traceback": [
      "\u001b[0;31m---------------------------------------------------------------------------\u001b[0m",
      "\u001b[0;31mModuleNotFoundError\u001b[0m                       Traceback (most recent call last)",
      "\u001b[0;32m/tmp/ipykernel_63982/1966213247.py\u001b[0m in \u001b[0;36m<module>\u001b[0;34m\u001b[0m\n\u001b[1;32m      6\u001b[0m \u001b[0;32mimport\u001b[0m \u001b[0mmatplotlib\u001b[0m\u001b[0;34m.\u001b[0m\u001b[0mpyplot\u001b[0m \u001b[0;32mas\u001b[0m \u001b[0mplt\u001b[0m\u001b[0;34m\u001b[0m\u001b[0;34m\u001b[0m\u001b[0m\n\u001b[1;32m      7\u001b[0m \u001b[0;34m\u001b[0m\u001b[0m\n\u001b[0;32m----> 8\u001b[0;31m \u001b[0;32mfrom\u001b[0m \u001b[0msrc\u001b[0m \u001b[0;32mimport\u001b[0m \u001b[0mutil\u001b[0m\u001b[0;34m,\u001b[0m \u001b[0masset\u001b[0m\u001b[0;34m,\u001b[0m \u001b[0mportfolio\u001b[0m\u001b[0;34m\u001b[0m\u001b[0;34m\u001b[0m\u001b[0m\n\u001b[0m\u001b[1;32m      9\u001b[0m \u001b[0;32mfrom\u001b[0m \u001b[0msrc\u001b[0m \u001b[0;32mimport\u001b[0m \u001b[0mtears\u001b[0m\u001b[0;34m\u001b[0m\u001b[0;34m\u001b[0m\u001b[0m\n\u001b[1;32m     10\u001b[0m \u001b[0;34m\u001b[0m\u001b[0m\n",
      "\u001b[0;32m~/workspace/training-py/src/asset.py\u001b[0m in \u001b[0;36m<module>\u001b[0;34m\u001b[0m\n\u001b[1;32m      2\u001b[0m \u001b[0;32mimport\u001b[0m \u001b[0mjson\u001b[0m\u001b[0;34m\u001b[0m\u001b[0;34m\u001b[0m\u001b[0m\n\u001b[1;32m      3\u001b[0m \u001b[0;32mfrom\u001b[0m \u001b[0mfunctools\u001b[0m \u001b[0;32mimport\u001b[0m \u001b[0mreduce\u001b[0m\u001b[0;34m\u001b[0m\u001b[0;34m\u001b[0m\u001b[0m\n\u001b[0;32m----> 4\u001b[0;31m \u001b[0;32mimport\u001b[0m \u001b[0mutil\u001b[0m\u001b[0;34m\u001b[0m\u001b[0;34m\u001b[0m\u001b[0m\n\u001b[0m\u001b[1;32m      5\u001b[0m \u001b[0;32mimport\u001b[0m \u001b[0mpandas\u001b[0m \u001b[0;32mas\u001b[0m \u001b[0mpd\u001b[0m\u001b[0;34m\u001b[0m\u001b[0;34m\u001b[0m\u001b[0m\n\u001b[1;32m      6\u001b[0m \u001b[0;32mimport\u001b[0m \u001b[0mmatplotlib\u001b[0m\u001b[0;34m.\u001b[0m\u001b[0mpyplot\u001b[0m \u001b[0;32mas\u001b[0m \u001b[0mplt\u001b[0m\u001b[0;34m\u001b[0m\u001b[0;34m\u001b[0m\u001b[0m\n",
      "\u001b[0;31mModuleNotFoundError\u001b[0m: No module named 'util'"
     ]
    }
   ],
   "metadata": {}
  },
  {
   "cell_type": "code",
   "execution_count": null,
   "source": [
    "tears.create_returns_tear_sheet(asset_returns.squeeze(), benchmark_rets=benchmark_returns.squeeze(), return_fig = True, sravzid = 'fut_gold')"
   ],
   "outputs": [
    {
     "output_type": "stream",
     "name": "stdout",
     "text": [
      "Entire data start date: 2017-03-30\n",
      "Entire data end date: 2019-10-03\n",
      "\n",
      "\n",
      "Backtest Months: 5\n"
     ]
    },
    {
     "output_type": "stream",
     "name": "stderr",
     "text": [
      "/Users/fd98279/.virtualenvs/python3.8/lib/python3.8/site-packages/empyrical/stats.py:642: FutureWarning: Sorting because non-concatenation axis is not aligned. A future version\n",
      "of pandas will change to not sort by default.\n",
      "\n",
      "To accept the future behavior, pass 'sort=False'.\n",
      "\n",
      "To retain the current behavior and silence the warning, pass 'sort=True'.\n",
      "\n",
      "  for col, series in iteritems(pd.concat(many_series, axis=1))]\n"
     ]
    },
    {
     "output_type": "display_data",
     "data": {
      "text/plain": [
       "Performance statistics   Backtest\n",
       "annual_return                0.41\n",
       "cum_returns_final            0.17\n",
       "annual_volatility            0.14\n",
       "sharpe_ratio                 2.47\n",
       "calmar_ratio                 7.13\n",
       "stability_of_timeseries      0.89\n",
       "max_drawdown                -0.06\n",
       "omega_ratio                  1.51\n",
       "sortino_ratio                4.16\n",
       "skew                         0.26\n",
       "kurtosis                     0.51\n",
       "tail_ratio                   1.28\n",
       "common_sense_ratio           1.80\n",
       "information_ratio           -0.13\n",
       "alpha                        0.38\n",
       "beta                        -0.00"
      ],
      "text/html": [
       "<div>\n",
       "<style scoped>\n",
       "    .dataframe tbody tr th:only-of-type {\n",
       "        vertical-align: middle;\n",
       "    }\n",
       "\n",
       "    .dataframe tbody tr th {\n",
       "        vertical-align: top;\n",
       "    }\n",
       "\n",
       "    .dataframe thead th {\n",
       "        text-align: right;\n",
       "    }\n",
       "</style>\n",
       "<table border=\"1\" class=\"dataframe\">\n",
       "  <thead>\n",
       "    <tr style=\"text-align: right;\">\n",
       "      <th>Performance statistics</th>\n",
       "      <th>Backtest</th>\n",
       "    </tr>\n",
       "  </thead>\n",
       "  <tbody>\n",
       "    <tr>\n",
       "      <th>annual_return</th>\n",
       "      <td>0.41</td>\n",
       "    </tr>\n",
       "    <tr>\n",
       "      <th>cum_returns_final</th>\n",
       "      <td>0.17</td>\n",
       "    </tr>\n",
       "    <tr>\n",
       "      <th>annual_volatility</th>\n",
       "      <td>0.14</td>\n",
       "    </tr>\n",
       "    <tr>\n",
       "      <th>sharpe_ratio</th>\n",
       "      <td>2.47</td>\n",
       "    </tr>\n",
       "    <tr>\n",
       "      <th>calmar_ratio</th>\n",
       "      <td>7.13</td>\n",
       "    </tr>\n",
       "    <tr>\n",
       "      <th>stability_of_timeseries</th>\n",
       "      <td>0.89</td>\n",
       "    </tr>\n",
       "    <tr>\n",
       "      <th>max_drawdown</th>\n",
       "      <td>-0.06</td>\n",
       "    </tr>\n",
       "    <tr>\n",
       "      <th>omega_ratio</th>\n",
       "      <td>1.51</td>\n",
       "    </tr>\n",
       "    <tr>\n",
       "      <th>sortino_ratio</th>\n",
       "      <td>4.16</td>\n",
       "    </tr>\n",
       "    <tr>\n",
       "      <th>skew</th>\n",
       "      <td>0.26</td>\n",
       "    </tr>\n",
       "    <tr>\n",
       "      <th>kurtosis</th>\n",
       "      <td>0.51</td>\n",
       "    </tr>\n",
       "    <tr>\n",
       "      <th>tail_ratio</th>\n",
       "      <td>1.28</td>\n",
       "    </tr>\n",
       "    <tr>\n",
       "      <th>common_sense_ratio</th>\n",
       "      <td>1.80</td>\n",
       "    </tr>\n",
       "    <tr>\n",
       "      <th>information_ratio</th>\n",
       "      <td>-0.13</td>\n",
       "    </tr>\n",
       "    <tr>\n",
       "      <th>alpha</th>\n",
       "      <td>0.38</td>\n",
       "    </tr>\n",
       "    <tr>\n",
       "      <th>beta</th>\n",
       "      <td>-0.00</td>\n",
       "    </tr>\n",
       "  </tbody>\n",
       "</table>\n",
       "</div>"
      ]
     },
     "metadata": {}
    },
    {
     "output_type": "stream",
     "name": "stderr",
     "text": [
      "/Users/fd98279/.virtualenvs/python3.8/lib/python3.8/site-packages/numpy/core/fromnumeric.py:56: FutureWarning: \n",
      "The current behaviour of 'Series.argmin' is deprecated, use 'idxmin'\n",
      "instead.\n",
      "The behavior of 'argmin' will be corrected to return the positional\n",
      "minimum in the future. For now, use 'series.values.argmin' or\n",
      "'np.argmin(np.array(values))' to get the position of the minimum\n",
      "row.\n",
      "  return getattr(obj, method)(*args, **kwds)\n"
     ]
    },
    {
     "output_type": "display_data",
     "data": {
      "text/plain": [
       "Worst drawdown periods net drawdown in %  peak date valley date recovery date  \\\n",
       "0                                   5.76 2019-09-04  2019-09-30           NaT   \n",
       "1                                   2.81 2019-06-25  2019-07-01    2019-07-17   \n",
       "2                                   2.25 2019-07-18  2019-07-25    2019-08-01   \n",
       "3                                   2.08 2019-05-13  2019-05-22    2019-05-31   \n",
       "4                                   1.88 2019-08-15  2019-08-19    2019-08-23   \n",
       "\n",
       "Worst drawdown periods duration  \n",
       "0                           NaN  \n",
       "1                            17  \n",
       "2                            11  \n",
       "3                            15  \n",
       "4                             7  "
      ],
      "text/html": [
       "<div>\n",
       "<style scoped>\n",
       "    .dataframe tbody tr th:only-of-type {\n",
       "        vertical-align: middle;\n",
       "    }\n",
       "\n",
       "    .dataframe tbody tr th {\n",
       "        vertical-align: top;\n",
       "    }\n",
       "\n",
       "    .dataframe thead th {\n",
       "        text-align: right;\n",
       "    }\n",
       "</style>\n",
       "<table border=\"1\" class=\"dataframe\">\n",
       "  <thead>\n",
       "    <tr style=\"text-align: right;\">\n",
       "      <th>Worst drawdown periods</th>\n",
       "      <th>net drawdown in %</th>\n",
       "      <th>peak date</th>\n",
       "      <th>valley date</th>\n",
       "      <th>recovery date</th>\n",
       "      <th>duration</th>\n",
       "    </tr>\n",
       "  </thead>\n",
       "  <tbody>\n",
       "    <tr>\n",
       "      <th>0</th>\n",
       "      <td>5.76</td>\n",
       "      <td>2019-09-04</td>\n",
       "      <td>2019-09-30</td>\n",
       "      <td>NaT</td>\n",
       "      <td>NaN</td>\n",
       "    </tr>\n",
       "    <tr>\n",
       "      <th>1</th>\n",
       "      <td>2.81</td>\n",
       "      <td>2019-06-25</td>\n",
       "      <td>2019-07-01</td>\n",
       "      <td>2019-07-17</td>\n",
       "      <td>17</td>\n",
       "    </tr>\n",
       "    <tr>\n",
       "      <th>2</th>\n",
       "      <td>2.25</td>\n",
       "      <td>2019-07-18</td>\n",
       "      <td>2019-07-25</td>\n",
       "      <td>2019-08-01</td>\n",
       "      <td>11</td>\n",
       "    </tr>\n",
       "    <tr>\n",
       "      <th>3</th>\n",
       "      <td>2.08</td>\n",
       "      <td>2019-05-13</td>\n",
       "      <td>2019-05-22</td>\n",
       "      <td>2019-05-31</td>\n",
       "      <td>15</td>\n",
       "    </tr>\n",
       "    <tr>\n",
       "      <th>4</th>\n",
       "      <td>1.88</td>\n",
       "      <td>2019-08-15</td>\n",
       "      <td>2019-08-19</td>\n",
       "      <td>2019-08-23</td>\n",
       "      <td>7</td>\n",
       "    </tr>\n",
       "  </tbody>\n",
       "</table>\n",
       "</div>"
      ]
     },
     "metadata": {}
    },
    {
     "output_type": "stream",
     "name": "stdout",
     "text": [
      "[-0.017 -0.024]\n"
     ]
    },
    {
     "output_type": "display_data",
     "data": {
      "text/plain": [
       "<Figure size 1008x5040 with 15 Axes>"
      ],
      "application/vnd.code.notebook.error": {
       "name": "ReferenceError",
       "message": "atob is not defined",
       "stack": "ReferenceError: atob is not defined\n\tat i (/home/ubuntu/.vscode-server-insiders/bin/04485223ebc6a075f39966bf9b3e261359ac7818-insider/extensions/ipynb/dist/ipynbMain.js:1:2580)\n\tat k (/home/ubuntu/.vscode-server-insiders/bin/04485223ebc6a075f39966bf9b3e261359ac7818-insider/extensions/ipynb/dist/ipynbMain.js:1:7437)\n\tat h (/home/ubuntu/.vscode-server-insiders/bin/04485223ebc6a075f39966bf9b3e261359ac7818-insider/extensions/ipynb/dist/ipynbMain.js:1:7733)\n\tat Array.map (<anonymous>)\n\tat /home/ubuntu/.vscode-server-insiders/bin/04485223ebc6a075f39966bf9b3e261359ac7818-insider/extensions/ipynb/dist/ipynbMain.js:1:8885\n\tat /home/ubuntu/.vscode-server-insiders/bin/04485223ebc6a075f39966bf9b3e261359ac7818-insider/extensions/ipynb/dist/ipynbMain.js:1:9127\n\tat /home/ubuntu/.vscode-server-insiders/bin/04485223ebc6a075f39966bf9b3e261359ac7818-insider/extensions/ipynb/dist/ipynbMain.js:1:9134\n\tat Array.map (<anonymous>)\n\tat e.jupyterNotebookModelToNotebookData (/home/ubuntu/.vscode-server-insiders/bin/04485223ebc6a075f39966bf9b3e261359ac7818-insider/extensions/ipynb/dist/ipynbMain.js:1:8443)\n\tat e.NotebookSerializer.deserializeNotebook (/home/ubuntu/.vscode-server-insiders/bin/04485223ebc6a075f39966bf9b3e261359ac7818-insider/extensions/ipynb/dist/ipynbMain.js:1:9936)\n\tat _.$dataToNotebook (/home/ubuntu/.vscode-server-insiders/bin/04485223ebc6a075f39966bf9b3e261359ac7818-insider/out/vs/server/remoteExtensionHostProcess.js:85:210435)\n\tat d._doInvokeHandler (/home/ubuntu/.vscode-server-insiders/bin/04485223ebc6a075f39966bf9b3e261359ac7818-insider/out/vs/server/remoteExtensionHostProcess.js:89:12819)\n\tat d._invokeHandler (/home/ubuntu/.vscode-server-insiders/bin/04485223ebc6a075f39966bf9b3e261359ac7818-insider/out/vs/server/remoteExtensionHostProcess.js:89:12503)\n\tat d._receiveRequest (/home/ubuntu/.vscode-server-insiders/bin/04485223ebc6a075f39966bf9b3e261359ac7818-insider/out/vs/server/remoteExtensionHostProcess.js:89:11107)\n\tat d._receiveOneMessage (/home/ubuntu/.vscode-server-insiders/bin/04485223ebc6a075f39966bf9b3e261359ac7818-insider/out/vs/server/remoteExtensionHostProcess.js:89:10142)\n\tat /home/ubuntu/.vscode-server-insiders/bin/04485223ebc6a075f39966bf9b3e261359ac7818-insider/out/vs/server/remoteExtensionHostProcess.js:89:8039\n\tat u.fire (/home/ubuntu/.vscode-server-insiders/bin/04485223ebc6a075f39966bf9b3e261359ac7818-insider/out/vs/server/remoteExtensionHostProcess.js:57:1712)\n\tat l.fire (/home/ubuntu/.vscode-server-insiders/bin/04485223ebc6a075f39966bf9b3e261359ac7818-insider/out/vs/server/remoteExtensionHostProcess.js:65:15825)\n\tat /home/ubuntu/.vscode-server-insiders/bin/04485223ebc6a075f39966bf9b3e261359ac7818-insider/out/vs/server/remoteExtensionHostProcess.js:104:30061\n\tat u.fire (/home/ubuntu/.vscode-server-insiders/bin/04485223ebc6a075f39966bf9b3e261359ac7818-insider/out/vs/server/remoteExtensionHostProcess.js:57:1712)\n\tat l.fire (/home/ubuntu/.vscode-server-insiders/bin/04485223ebc6a075f39966bf9b3e261359ac7818-insider/out/vs/server/remoteExtensionHostProcess.js:65:15825)\n\tat r._receiveMessage (/home/ubuntu/.vscode-server-insiders/bin/04485223ebc6a075f39966bf9b3e261359ac7818-insider/out/vs/server/remoteExtensionHostProcess.js:65:21091)\n\tat /home/ubuntu/.vscode-server-insiders/bin/04485223ebc6a075f39966bf9b3e261359ac7818-insider/out/vs/server/remoteExtensionHostProcess.js:65:20189\n\tat u.fire (/home/ubuntu/.vscode-server-insiders/bin/04485223ebc6a075f39966bf9b3e261359ac7818-insider/out/vs/server/remoteExtensionHostProcess.js:57:1712)\n\tat v.acceptChunk (/home/ubuntu/.vscode-server-insiders/bin/04485223ebc6a075f39966bf9b3e261359ac7818-insider/out/vs/server/remoteExtensionHostProcess.js:65:13186)\n\tat /home/ubuntu/.vscode-server-insiders/bin/04485223ebc6a075f39966bf9b3e261359ac7818-insider/out/vs/server/remoteExtensionHostProcess.js:65:12534\n\tat u.fire (/home/ubuntu/.vscode-server-insiders/bin/04485223ebc6a075f39966bf9b3e261359ac7818-insider/out/vs/server/remoteExtensionHostProcess.js:57:1712)\n\tat P._acceptChunk (/home/ubuntu/.vscode-server-insiders/bin/04485223ebc6a075f39966bf9b3e261359ac7818-insider/out/vs/server/remoteExtensionHostProcess.js:104:19231)\n\tat /home/ubuntu/.vscode-server-insiders/bin/04485223ebc6a075f39966bf9b3e261359ac7818-insider/out/vs/server/remoteExtensionHostProcess.js:104:15644\n\tat Socket.w (/home/ubuntu/.vscode-server-insiders/bin/04485223ebc6a075f39966bf9b3e261359ac7818-insider/out/vs/server/remoteExtensionHostProcess.js:104:13219)\n\tat Socket.emit (events.js:315:20)\n\tat addChunk (internal/streams/readable.js:309:12)\n\tat readableAddChunk (internal/streams/readable.js:284:9)\n\tat Socket.Readable.push (internal/streams/readable.js:223:10)\n\tat TCP.onStreamRead (internal/stream_base_commons.js:188:23)"
      }
     },
     "metadata": {
      "needs_background": "light"
     }
    }
   ],
   "metadata": {}
  },
  {
   "cell_type": "code",
   "execution_count": null,
   "source": [],
   "outputs": [],
   "metadata": {}
  },
  {
   "cell_type": "code",
   "execution_count": null,
   "source": [],
   "outputs": [],
   "metadata": {}
  }
 ],
 "metadata": {
  "kernelspec": {
   "name": "python3",
   "display_name": "Python 3.7.8 64-bit ('3.7.8': pyenv)"
  },
  "language_info": {
   "codemirror_mode": {
    "name": "ipython",
    "version": 3
   },
   "file_extension": ".py",
   "mimetype": "text/x-python",
   "name": "python",
   "nbconvert_exporter": "python",
   "pygments_lexer": "ipython3",
   "version": "3.7.8"
  },
  "interpreter": {
   "hash": "7e2bad60f20d264d8653ff57667a078e8b89b282315c38b0c5b10fa928cf62ca"
  }
 },
 "nbformat": 4,
 "nbformat_minor": 2
}