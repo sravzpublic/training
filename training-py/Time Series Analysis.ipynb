{
 "cells": [
  {
   "cell_type": "code",
   "execution_count": 6,
   "metadata": {},
   "outputs": [
    {
     "name": "stdout",
     "output_type": "stream",
     "text": [
      "            AdjustedClose\n",
      "Date                     \n",
      "1984-11-05          347.6\n",
      "1984-11-06          345.2\n",
      "1984-11-07          350.5\n",
      "1984-11-08          347.9\n",
      "1984-11-09          345.8\n"
     ]
    }
   ],
   "source": [
    "%reload_ext autoreload\n",
    "%autoreload 2\n",
    "\n",
    "import sys\n",
    "sys.path.append(\"./\")\n",
    "sys.path.append(\"./src/\")\n",
    "import datetime\n",
    "import numpy as np\n",
    "import matplotlib.pyplot as plt\n",
    "from src import util, asset, timeseries\n",
    "\n",
    "ae = asset.engine()\n",
    "price_df = ae.get_historical_price('fut_us_gc')[['AdjustedClose']]\n",
    "\n",
    "print(price_df.head())\n",
    "print(price_df.tail())"
   ]
  },
  {
   "cell_type": "code",
   "execution_count": 4,
   "metadata": {},
   "outputs": [
    {
     "ename": "NameError",
     "evalue": "name 'price_df' is not defined",
     "output_type": "error",
     "traceback": [
      "\u001b[0;31m---------------------------------------------------------------------------\u001b[0m",
      "\u001b[0;31mNameError\u001b[0m                                 Traceback (most recent call last)",
      "\u001b[0;32m/tmp/ipykernel_8683/3871363684.py\u001b[0m in \u001b[0;36m<module>\u001b[0;34m\u001b[0m\n\u001b[0;32m----> 1\u001b[0;31m \u001b[0mtimeseries\u001b[0m\u001b[0;34m.\u001b[0m\u001b[0mget_ts_data\u001b[0m\u001b[0;34m(\u001b[0m\u001b[0;34m'fut_us_gc'\u001b[0m\u001b[0;34m,\u001b[0m \u001b[0mprice_df\u001b[0m\u001b[0;34m,\u001b[0m \u001b[0;34m'Settle'\u001b[0m\u001b[0;34m)\u001b[0m\u001b[0;34m\u001b[0m\u001b[0;34m\u001b[0m\u001b[0m\n\u001b[0m",
      "\u001b[0;31mNameError\u001b[0m: name 'price_df' is not defined"
     ]
    }
   ],
   "source": [
    "timeseries.get_ts_data('fut_us_gc', price_df, 'Settle')"
   ]
  },
  {
   "cell_type": "code",
   "execution_count": null,
   "metadata": {},
   "outputs": [],
   "source": []
  }
 ],
 "metadata": {
  "kernelspec": {
   "display_name": "Python 3",
   "language": "python",
   "name": "python3"
  },
  "language_info": {
   "codemirror_mode": {
    "name": "ipython",
    "version": 3
   },
   "file_extension": ".py",
   "mimetype": "text/x-python",
   "name": "python",
   "nbconvert_exporter": "python",
   "pygments_lexer": "ipython3",
   "version": "3.7.8"
  }
 },
 "nbformat": 4,
 "nbformat_minor": 2
}
